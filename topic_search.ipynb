{
 "cells": [
  {
   "cell_type": "code",
   "execution_count": 16,
   "id": "eca14a70",
   "metadata": {},
   "outputs": [],
   "source": [
    "from firecrawl import Firecrawl\n",
    "from langchain_groq import ChatGroq\n",
    "from typing import List , Optional , Annotated\n",
    "from dotenv import load_dotenv\n",
    "load_dotenv()\n",
    "import os\n",
    "from pydantic import BaseModel , Field\n",
    "import json\n",
    "from docx import Document\n",
    "\n",
    "app =  Firecrawl(api_key= os.getenv(\"FIRECRAWL_API_KEY\")) # pyright: ignore[reportArgumentType]"
   ]
  },
  {
   "cell_type": "code",
   "execution_count": 3,
   "id": "ef4bc71c",
   "metadata": {},
   "outputs": [],
   "source": [
    "model = ChatGroq(model=\"llama3-70b-8192\", temperature=0, api_key= os.getenv(\"GROQ_API_KEY\"))  # pyright: ignore[reportArgumentType]"
   ]
  },
  {
   "cell_type": "code",
   "execution_count": 4,
   "id": "c21c1435",
   "metadata": {},
   "outputs": [],
   "source": [
    "class searchResult(BaseModel):\n",
    "    source_url : str\n",
    "   \n",
    "\n",
    "class searchResults(BaseModel):\n",
    "    results: List[searchResult]    "
   ]
  },
  {
   "cell_type": "code",
   "execution_count": 5,
   "id": "5a343988",
   "metadata": {},
   "outputs": [],
   "source": [
    "struct_model = model.with_structured_output(searchResults)"
   ]
  },
  {
   "cell_type": "code",
   "execution_count": 6,
   "id": "a231c73d",
   "metadata": {},
   "outputs": [
    {
     "name": "stdout",
     "output_type": "stream",
     "text": [
      "['https://pmc.ncbi.nlm.nih.gov/articles/PMC11580103/', 'https://www.hopkinsmedicine.org/health/wellness-and-prevention/what-does-vaping-do-to-your-lungs', 'https://www.lung.org/quit-smoking/e-cigarettes-vaping/impact-of-e-cigarettes-on-lung']\n"
     ]
    }
   ],
   "source": [
    "search_result = app.search(\n",
    "    query = \"effect of vaping on lung health\",\n",
    "    limit = 3\n",
    ")\n",
    "\n",
    "final_data = struct_model.invoke(\n",
    "    f\"\"\"\n",
    "    Extract exactly 3 results.  \n",
    "    Use 'url' → 'source_url'.  \n",
    "    Return only valid JSON that matches the schema.  \n",
    "\n",
    "    Search results:\n",
    "    {search_result}\n",
    "    \"\"\"\n",
    ")\n",
    "\n",
    "links = [item.source_url for item in final_data.results]\n",
    "\n",
    "print(links)"
   ]
  },
  {
   "cell_type": "code",
   "execution_count": 10,
   "id": "4f3fb475",
   "metadata": {},
   "outputs": [],
   "source": [
    "class contentSchema(BaseModel):\n",
    "    title: str = Field( description=\"main Headline of the page\" )\n",
    "    page_content: str = Field( description=\"summery of Main content of the page\" )\n",
    "    images: Optional[List[str]] = Field( description=\"List of image URLs on the page\" )"
   ]
  },
  {
   "cell_type": "code",
   "execution_count": 7,
   "id": "2cba6c0f",
   "metadata": {},
   "outputs": [],
   "source": [
    "content_model = model.with_structured_output(contentSchema)"
   ]
  },
  {
   "cell_type": "code",
   "execution_count": 15,
   "id": "c101a4be",
   "metadata": {},
   "outputs": [
    {
     "name": "stdout",
     "output_type": "stream",
     "text": [
      "Scraped data saved to output.txt\n"
     ]
    }
   ],
   "source": [
    "for link in links: \n",
    "    scrape_result = app.scrape(\n",
    "    url = link,\n",
    "    formats= [{\n",
    "        \"type\": \"json\",\n",
    "        \"schema\": contentSchema\n",
    "        \n",
    "    }],\n",
    "    only_main_content=True \n",
    "    )\n",
    "\n",
    "    json_data = scrape_result.json\n",
    "\n",
    "    with open(\"output.txt\", \"a\") as file: \n",
    "        file.write(json.dumps(json_data, indent=4))\n",
    "        file.write(\"\\n\")  \n",
    "\n",
    "\n",
    "\n",
    "\n",
    "print(\"Scraped data saved to output.txt\")        "
   ]
  },
  {
   "cell_type": "code",
   "execution_count": 17,
   "id": "ed0b0c75",
   "metadata": {},
   "outputs": [
    {
     "name": "stdout",
     "output_type": "stream",
     "text": [
      "Data Saved\n"
     ]
    }
   ],
   "source": [
    "docs = Document()\n",
    "docs.add_heading('Scraped Web Page Data', level=1)\n",
    "\n",
    "for idx, link in enumerate(links, 1):\n",
    "    scrape_result2 = app.scrape(\n",
    "        url = link,\n",
    "        formats= [{\n",
    "            \"type\": \"json\",\n",
    "            \"schema\": contentSchema\n",
    "            \n",
    "        }],\n",
    "        only_main_content=True\n",
    "    )\n",
    "\n",
    "    json_data2 = scrape_result2.json\n",
    "\n",
    "    docs.add_heading(f\"Result {idx} - {link}\", level=2)\n",
    "\n",
    "    text = json.dumps(json_data2, indent=4)\n",
    "    docs.add_paragraph(text)\n",
    "\n",
    "docs.save('scraped_data.docx')\n",
    "\n",
    "print(\"Data Saved\")\n",
    "\n"
   ]
  }
 ],
 "metadata": {
  "kernelspec": {
   "display_name": "myenv (3.13.3)",
   "language": "python",
   "name": "python3"
  },
  "language_info": {
   "codemirror_mode": {
    "name": "ipython",
    "version": 3
   },
   "file_extension": ".py",
   "mimetype": "text/x-python",
   "name": "python",
   "nbconvert_exporter": "python",
   "pygments_lexer": "ipython3",
   "version": "3.13.3"
  }
 },
 "nbformat": 4,
 "nbformat_minor": 5
}
